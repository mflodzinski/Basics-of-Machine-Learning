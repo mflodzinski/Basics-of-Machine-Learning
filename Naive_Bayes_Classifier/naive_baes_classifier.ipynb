{
 "cells": [
  {
   "cell_type": "markdown",
   "id": "1d1b1555",
   "metadata": {},
   "source": [
    "# <center> WSI Ćwiczenie nr.7 - Implementacja naiwnego klasyfikatora Bayesa</center>\n",
    "\n",
    "### <center>Maciej Łodziński</center>\n",
    "\n",
    "\n",
    "### Cel ćwiczenia:\n",
    "Celem ćwiczenia jest implementacja naiwnego klasyfikatora Bayesa a następnie porównanie jego metryk na podstawie zbioru danych `cardio` z uwzględnieniem walidacji krzyżowej oraz bez."
   ]
  },
  {
   "cell_type": "code",
   "execution_count": 12,
   "id": "9da9d0a9",
   "metadata": {},
   "outputs": [],
   "source": [
    "import numpy as np\n",
    "import pandas as pd\n",
    "import warnings\n",
    "from sklearn.model_selection import train_test_split, KFold\n",
    "import sklearn.metrics as metrics\n",
    "\n",
    "warnings.filterwarnings('ignore')"
   ]
  },
  {
   "cell_type": "markdown",
   "id": "51f64e82",
   "metadata": {},
   "source": [
    "### Czyszczenie danych\n",
    "Usunięcie kolumny `id`, zastąpienie wartości `na` średnią danej kolumny, podzielenie danych na zbiory trenujący, walidacyjny i testowy w proporcjach 14:3:3."
   ]
  },
  {
   "cell_type": "code",
   "execution_count": 13,
   "id": "c2e3cf97",
   "metadata": {},
   "outputs": [],
   "source": [
    "def prepare_data(df):\n",
    "    df = df.drop(labels=\"id\", axis=1)\n",
    "    df = df.fillna(df.mean(), axis=0)\n",
    "    X = df.iloc[:,:-1]\n",
    "    y = df.iloc[:,-1]\n",
    "    return X, y\n",
    "\n",
    "filename = \"cardio_train.csv\"\n",
    "data = pd.read_csv(filename, sep=';')\n",
    "X, y = prepare_data(data)"
   ]
  },
  {
   "cell_type": "markdown",
   "id": "92303f13",
   "metadata": {},
   "source": [
    "### Podział danych w zależności od rozmiaru"
   ]
  },
  {
   "cell_type": "code",
   "execution_count": 21,
   "id": "9b7ce9b1",
   "metadata": {},
   "outputs": [],
   "source": [
    "def divide_data(train_size, valid_size):\n",
    "    train_set, validation_set = train_test_split(data, test_size=(1-train_size), random_state=42)\n",
    "    valid_set, test_set = train_test_split(validation_set, train_size=valid_size/(1-train_size), random_state=42)\n",
    "\n",
    "    X_train, y_train = prepare_data(train_set)\n",
    "    X_valid, y_valid = prepare_data(valid_set)\n",
    "    X_test, y_test = prepare_data(test_set)\n",
    "    return X_train, y_train, X_valid, y_valid, X_test, y_test"
   ]
  },
  {
   "cell_type": "code",
   "execution_count": 3,
   "id": "10b3ab6f",
   "metadata": {
    "scrolled": true
   },
   "outputs": [
    {
     "data": {
      "text/html": [
       "<div>\n",
       "<style scoped>\n",
       "    .dataframe tbody tr th:only-of-type {\n",
       "        vertical-align: middle;\n",
       "    }\n",
       "\n",
       "    .dataframe tbody tr th {\n",
       "        vertical-align: top;\n",
       "    }\n",
       "\n",
       "    .dataframe thead th {\n",
       "        text-align: right;\n",
       "    }\n",
       "</style>\n",
       "<table border=\"1\" class=\"dataframe\">\n",
       "  <thead>\n",
       "    <tr style=\"text-align: right;\">\n",
       "      <th></th>\n",
       "      <th>age</th>\n",
       "      <th>gender</th>\n",
       "      <th>height</th>\n",
       "      <th>weight</th>\n",
       "      <th>ap_hi</th>\n",
       "      <th>ap_lo</th>\n",
       "      <th>cholesterol</th>\n",
       "      <th>gluc</th>\n",
       "      <th>smoke</th>\n",
       "      <th>alco</th>\n",
       "      <th>active</th>\n",
       "    </tr>\n",
       "  </thead>\n",
       "  <tbody>\n",
       "    <tr>\n",
       "      <th>29045</th>\n",
       "      <td>21473</td>\n",
       "      <td>1</td>\n",
       "      <td>165</td>\n",
       "      <td>68.0</td>\n",
       "      <td>120</td>\n",
       "      <td>80</td>\n",
       "      <td>1</td>\n",
       "      <td>3</td>\n",
       "      <td>0</td>\n",
       "      <td>0</td>\n",
       "      <td>1</td>\n",
       "    </tr>\n",
       "    <tr>\n",
       "      <th>11423</th>\n",
       "      <td>20666</td>\n",
       "      <td>2</td>\n",
       "      <td>176</td>\n",
       "      <td>84.0</td>\n",
       "      <td>120</td>\n",
       "      <td>80</td>\n",
       "      <td>1</td>\n",
       "      <td>1</td>\n",
       "      <td>1</td>\n",
       "      <td>0</td>\n",
       "      <td>0</td>\n",
       "    </tr>\n",
       "    <tr>\n",
       "      <th>62318</th>\n",
       "      <td>19564</td>\n",
       "      <td>2</td>\n",
       "      <td>165</td>\n",
       "      <td>90.0</td>\n",
       "      <td>160</td>\n",
       "      <td>90</td>\n",
       "      <td>1</td>\n",
       "      <td>1</td>\n",
       "      <td>0</td>\n",
       "      <td>0</td>\n",
       "      <td>1</td>\n",
       "    </tr>\n",
       "    <tr>\n",
       "      <th>28417</th>\n",
       "      <td>19777</td>\n",
       "      <td>1</td>\n",
       "      <td>169</td>\n",
       "      <td>72.0</td>\n",
       "      <td>110</td>\n",
       "      <td>70</td>\n",
       "      <td>1</td>\n",
       "      <td>1</td>\n",
       "      <td>0</td>\n",
       "      <td>0</td>\n",
       "      <td>1</td>\n",
       "    </tr>\n",
       "    <tr>\n",
       "      <th>20429</th>\n",
       "      <td>17507</td>\n",
       "      <td>2</td>\n",
       "      <td>165</td>\n",
       "      <td>83.0</td>\n",
       "      <td>110</td>\n",
       "      <td>80</td>\n",
       "      <td>1</td>\n",
       "      <td>1</td>\n",
       "      <td>0</td>\n",
       "      <td>0</td>\n",
       "      <td>1</td>\n",
       "    </tr>\n",
       "  </tbody>\n",
       "</table>\n",
       "</div>"
      ],
      "text/plain": [
       "         age  gender  height  weight  ap_hi  ap_lo  cholesterol  gluc  smoke  \\\n",
       "29045  21473       1     165    68.0    120     80            1     3      0   \n",
       "11423  20666       2     176    84.0    120     80            1     1      1   \n",
       "62318  19564       2     165    90.0    160     90            1     1      0   \n",
       "28417  19777       1     169    72.0    110     70            1     1      0   \n",
       "20429  17507       2     165    83.0    110     80            1     1      0   \n",
       "\n",
       "       alco  active  \n",
       "29045     0       1  \n",
       "11423     0       0  \n",
       "62318     0       1  \n",
       "28417     0       1  \n",
       "20429     0       1  "
      ]
     },
     "execution_count": 3,
     "metadata": {},
     "output_type": "execute_result"
    }
   ],
   "source": [
    "X_train.head()"
   ]
  },
  {
   "cell_type": "markdown",
   "id": "ebc55fb4",
   "metadata": {},
   "source": [
    "### Uniwersalny solver"
   ]
  },
  {
   "cell_type": "code",
   "execution_count": 15,
   "id": "09dcd34e",
   "metadata": {},
   "outputs": [],
   "source": [
    "class Solver:\n",
    "\n",
    "    def fit(self, X, y):\n",
    "        self.clf = NaiveBayesClassifier()\n",
    "        clf.fit(X, y)\n",
    "\n",
    "    def predict(self, X):\n",
    "        return self.clf.predict(X)"
   ]
  },
  {
   "cell_type": "markdown",
   "id": "98d2495f",
   "metadata": {},
   "source": [
    "### Implementacja Naive Bayes Classifier"
   ]
  },
  {
   "cell_type": "code",
   "execution_count": 16,
   "id": "b7c1314a",
   "metadata": {},
   "outputs": [],
   "source": [
    "class NaiveBayesClassifier:\n",
    "\n",
    "    def fit(self, X, y):\n",
    "        m, n = X.shape\n",
    "        self.classes = np.unique(y)\n",
    "        c_len = len(self.classes)\n",
    "\n",
    "        self.mean = np.zeros((c_len, n))\n",
    "        self.var = np.zeros((c_len, n))\n",
    "        self.priors = np.zeros(c_len)\n",
    "\n",
    "        for i, c in enumerate(self.classes):\n",
    "            X_c = X[y == c]\n",
    "            self.mean[i, :] = X_c.mean(axis=0)\n",
    "            self.var[i, :] = X_c.var(axis=0)\n",
    "            self.priors[i] = X_c.shape[0] / m\n",
    "\n",
    "    def predict(self, X):\n",
    "        y_pred = [self._predict(x) for _, x in X.iterrows()]\n",
    "        return np.array(y_pred)\n",
    "\n",
    "    def _predict(self, x):\n",
    "        posteriors = []\n",
    "        for i, _ in enumerate(self.classes):\n",
    "            prior = np.log(self.priors[i])\n",
    "            posterior = np.sum(np.log(self._gausian_probability(i, x)))\n",
    "            posterior += prior\n",
    "            posteriors.append(posterior)\n",
    "            \n",
    "        return self.classes[np.argmax(posteriors)]\n",
    "\n",
    "    def _gausian_probability(self, class_idx, x):\n",
    "        mean = self.mean[class_idx]\n",
    "        var = self.var[class_idx]\n",
    "        numerator = np.exp(-((x - mean) ** 2) / (2 * var))\n",
    "        denominator = np.sqrt(2 * np.pi * var)\n",
    "        return numerator / denominator"
   ]
  },
  {
   "cell_type": "markdown",
   "id": "a4f5dc49",
   "metadata": {},
   "source": [
    "### Funkcje sprawdzające metryki modelu"
   ]
  },
  {
   "cell_type": "code",
   "execution_count": 17,
   "id": "c2bc11fe",
   "metadata": {},
   "outputs": [],
   "source": [
    "def get_metrics(y_true, y_pred):\n",
    "    accuracy = round(metrics.accuracy_score(y_true, y_pred)*100, 2)\n",
    "    precision = round(metrics.precision_score(y_true, y_pred)*100, 2)\n",
    "    recall = round(metrics.recall_score(y_true, y_pred)*100, 2)\n",
    "    f1 = round(metrics.f1_score(y_true, y_pred)*100, 2)\n",
    "    return accuracy, precision, recall, f1\n",
    "\n",
    "def cross_validation(X, y, k, classifier):\n",
    "    kf = KFold(n_splits=k, shuffle=False)\n",
    "    clf = classifier()\n",
    "    accuracies = []\n",
    "    precisions = []\n",
    "    recalls = []\n",
    "    f1_scores = []\n",
    "    all_pred = []\n",
    "\n",
    "    for train_index, val_index in kf.split(X):\n",
    "        X_train, X_val = X.iloc[train_index], X.iloc[val_index]\n",
    "        y_train, y_val = y.iloc[train_index], y.iloc[val_index]\n",
    "\n",
    "        clf.fit(X_train, y_train)\n",
    "        y_pred = clf.predict(X_val)\n",
    "        model_metrics = get_metrics(y_val, y_pred)\n",
    "        accuracies.append(model_metrics[0])\n",
    "        precisions.append(model_metrics[1])\n",
    "        recalls.append(model_metrics[2])\n",
    "        f1_scores.append(model_metrics[3])\n",
    "        all_pred.append(y_pred)\n",
    "        \n",
    "    all_pred = np.concatenate(all_pred, axis=0)\n",
    "    cm = metrics.confusion_matrix(y, all_pred, labels=clf.classes)\n",
    "    disp = metrics.ConfusionMatrixDisplay(confusion_matrix=cm, display_labels=clf.classes)\n",
    "    disp.plot()\n",
    "        \n",
    "    avg_accuracy = round(np.mean(accuracies), 2)\n",
    "    avg_precision = round(np.mean(precisions), 2)\n",
    "    avg_recall = round(np.mean(recalls), 2)\n",
    "    avg_f1 = round(np.mean(f1_scores), 2)\n",
    "\n",
    "    return avg_accuracy, avg_precision, avg_recall, avg_f1"
   ]
  },
  {
   "cell_type": "markdown",
   "id": "76bff09a",
   "metadata": {},
   "source": [
    "###  Validation Set"
   ]
  },
  {
   "cell_type": "code",
   "execution_count": 25,
   "id": "922a1cc8",
   "metadata": {},
   "outputs": [],
   "source": [
    "def test_metrics(train_size, valid_size):\n",
    "    X_train, y_train, X_valid, y_valid, X_test, y_test = divide_data(train_size, valid_size)\n",
    "    clf = NaiveBayesClassifier()\n",
    "    clf.fit(X_train, y_train)\n",
    "\n",
    "    y_pred = clf.predict(X_valid)\n",
    "    model_metrics = get_metrics(y_valid, y_pred)\n",
    "    print(f\"TRAIN - {round(train_size, 2)} && VALID - {round(valid_size, 2)} && TEST - {round(1-train_size-valid_size, 2)}\\naccuracy -> {model_metrics[0]}%\\nprecision -> {model_metrics[1]}%\\nrecall -> {model_metrics[2]}%\\nf1_score -> {model_metrics[3]}%\\n\")"
   ]
  },
  {
   "cell_type": "markdown",
   "id": "34a32235",
   "metadata": {},
   "source": [
    "### Cross Validation"
   ]
  },
  {
   "cell_type": "code",
   "execution_count": 19,
   "id": "d0dc7522",
   "metadata": {},
   "outputs": [],
   "source": [
    "def test_cross_validation(cuts):\n",
    "    model_metrics = cross_validation(X, y, cuts, NaiveBayesClassifier)\n",
    "    print(f'accuracy -> {model_metrics[0]}%\\nprecision -> {model_metrics[1]}%\\nrecall -> {model_metrics[2]}%\\nf1_score -> {model_metrics[3]}%\\n')"
   ]
  },
  {
   "cell_type": "markdown",
   "id": "a899dc72",
   "metadata": {},
   "source": [
    "## Porównanie metod pomiaru\n",
    "Do porównania wzięto k-krotną walidację krzyżową oraz zwykły zbiór walidacyjny. Porównania bedą się odbywać na zbiorach testowych. Poniżej prezentują się uzyskane wyniki."
   ]
  },
  {
   "cell_type": "markdown",
   "id": "9a5ead75",
   "metadata": {},
   "source": [
    "### Test cross validation with 3 cuts"
   ]
  },
  {
   "cell_type": "code",
   "execution_count": 21,
   "id": "a5d4f767",
   "metadata": {},
   "outputs": [
    {
     "name": "stdout",
     "output_type": "stream",
     "text": [
      "accuracy -> 59.26%\n",
      "precision -> 73.22%\n",
      "recall -> 29.35%\n",
      "f1_score -> 41.78%\n",
      "\n"
     ]
    },
    {
     "data": {
      "image/png": "[encoded data removed]",
      "text/plain": [
       "<Figure size 640x480 with 2 Axes>"
      ]
     },
     "metadata": {},
     "output_type": "display_data"
    }
   ],
   "source": [
    "test_cross_validation(3)"
   ]
  },
  {
   "cell_type": "markdown",
   "id": "a736e3cc",
   "metadata": {},
   "source": [
    "### Test cross validation with 5 cuts"
   ]
  },
  {
   "cell_type": "code",
   "execution_count": 22,
   "id": "5bb20d71",
   "metadata": {},
   "outputs": [
    {
     "name": "stdout",
     "output_type": "stream",
     "text": [
      "accuracy -> 59.23%\n",
      "precision -> 72.8%\n",
      "recall -> 29.53%\n",
      "f1_score -> 41.94%\n",
      "\n"
     ]
    },
    {
     "data": {
      "image/png": "[encoded data removed]",
      "text/plain": [
       "<Figure size 640x480 with 2 Axes>"
      ]
     },
     "metadata": {},
     "output_type": "display_data"
    }
   ],
   "source": [
    "test_cross_validation(5)"
   ]
  },
  {
   "cell_type": "markdown",
   "id": "9edce5fd",
   "metadata": {},
   "source": [
    "### Test cross validation with 7 cuts"
   ]
  },
  {
   "cell_type": "code",
   "execution_count": 23,
   "id": "2af00b6b",
   "metadata": {},
   "outputs": [
    {
     "name": "stdout",
     "output_type": "stream",
     "text": [
      "accuracy -> 59.06%\n",
      "precision -> 72.22%\n",
      "recall -> 29.31%\n",
      "f1_score -> 41.69%\n",
      "\n"
     ]
    },
    {
     "data": {
      "image/png": "[encoded data removed]",
      "text/plain": [
       "<Figure size 640x480 with 2 Axes>"
      ]
     },
     "metadata": {},
     "output_type": "display_data"
    }
   ],
   "source": [
    "test_cross_validation(7)"
   ]
  },
  {
   "cell_type": "markdown",
   "id": "839019e3",
   "metadata": {},
   "source": [
    "### Test cross validation with 9 cuts"
   ]
  },
  {
   "cell_type": "code",
   "execution_count": 24,
   "id": "da804632",
   "metadata": {},
   "outputs": [
    {
     "name": "stdout",
     "output_type": "stream",
     "text": [
      "accuracy -> 59.02%\n",
      "precision -> 72.15%\n",
      "recall -> 29.27%\n",
      "f1_score -> 41.64%\n",
      "\n"
     ]
    },
    {
     "data": {
      "image/png": "[encoded data removed]",
      "text/plain": [
       "<Figure size 640x480 with 2 Axes>"
      ]
     },
     "metadata": {},
     "output_type": "display_data"
    }
   ],
   "source": [
    "test_cross_validation(9)"
   ]
  },
  {
   "cell_type": "markdown",
   "id": "282520f0",
   "metadata": {},
   "source": [
    "### Najlepsza liczba podziału `cuts`\n",
    "W przypadku naszego problemu - wykrywanie choroby serca, bardziej zależy nam na pełności niż na precyzji, gdyż  \n",
    "chcemy zaminimalizować liczbę sytuacji, w których nie wykryjemy choroby serca u chorego pacjenta. W związku z tym,  \n",
    "ostatecznie dobrano wartość parametru `cuts = 5`, ponieważ posiada on największą pełność, a także nie odstaje zbytnio od pozostałych parametrów resztą metryk. "
   ]
  },
  {
   "cell_type": "code",
   "execution_count": 26,
   "id": "3efd0ec5",
   "metadata": {},
   "outputs": [
    {
     "name": "stdout",
     "output_type": "stream",
     "text": [
      "TRAIN - 0.9 && VALID - 0.05 && TEST - 0.05\n",
      "accuracy -> 58.76%\n",
      "precision -> 69.37%\n",
      "recall -> 30.29%\n",
      "f1_score -> 42.17%\n",
      "\n",
      "TRAIN - 0.8 && VALID - 0.1 && TEST - 0.1\n",
      "accuracy -> 58.21%\n",
      "precision -> 72.34%\n",
      "recall -> 26.82%\n",
      "f1_score -> 39.13%\n",
      "\n",
      "TRAIN - 0.8 && VALID - 0.15 && TEST - 0.05\n",
      "accuracy -> 58.47%\n",
      "precision -> 72.09%\n",
      "recall -> 26.84%\n",
      "f1_score -> 39.12%\n",
      "\n",
      "TRAIN - 0.7 && VALID - 0.15 && TEST - 0.15\n",
      "accuracy -> 58.46%\n",
      "precision -> 72.18%\n",
      "recall -> 27.47%\n",
      "f1_score -> 39.79%\n",
      "\n",
      "TRAIN - 0.6 && VALID - 0.2 && TEST - 0.2\n",
      "accuracy -> 57.63%\n",
      "precision -> 73.06%\n",
      "recall -> 25.16%\n",
      "f1_score -> 37.43%\n",
      "\n",
      "TRAIN - 0.6 && VALID - 0.1 && TEST - 0.3\n",
      "accuracy -> 57.58%\n",
      "precision -> 73.42%\n",
      "recall -> 25.49%\n",
      "f1_score -> 37.84%\n",
      "\n",
      "TRAIN - 0.5 && VALID - 0.25 && TEST - 0.25\n",
      "accuracy -> 57.71%\n",
      "precision -> 71.38%\n",
      "recall -> 25.84%\n",
      "f1_score -> 37.95%\n",
      "\n"
     ]
    }
   ],
   "source": [
    "test_metrics(0.9, 0.05)\n",
    "test_metrics(0.8, 0.1)\n",
    "test_metrics(0.8, 0.15)\n",
    "test_metrics(0.7, 0.15)\n",
    "test_metrics(0.6, 0.2)\n",
    "test_metrics(0.6, 0.1)\n",
    "test_metrics(0.5, 0.25)"
   ]
  },
  {
   "cell_type": "markdown",
   "id": "09c6cb6d",
   "metadata": {},
   "source": [
    "### Wyniki\n",
    "Jeśli chodzi o metodę pomiaru zbiorem walidacyjnym to najlepiej wypdał podział `0.9 : 0.05 : 0.05` z `accuracy = 58.76%` i `recall = 30.29%`. Natomiast metoda k-krotnej walidacji najlepiej sprawdziła się dla `cuts = 5` z `accuracy = 59.23%` i `recall = 29.53%`"
   ]
  },
  {
   "cell_type": "markdown",
   "id": "b44dab57",
   "metadata": {},
   "source": [
    "### Wnioski ogólne\n",
    "Skuteczność modelu naiwnego klasyfikatora Bayesa zależy od wielu czynników:  \n",
    "- samych danych,  \n",
    "- sposobie podziału zbioru danych na podzbiory treningowy, walidacyjny, testowy,  \n",
    "- rozmiaru danych wejściowych - im więcej danych tym dokładniejszy model otrzymamy,  \n",
    "- wadą jest powolna klasyfikacja nowych danych na podstawie już raz wyliczonego modelu.\n",
    "\n",
    "Klasyfikator Bayesa nie działa dobrze na tym zbiorze danych, ponieważ prawdopodobnie kolumny (cechy) w zbiorze danych są od siebie w jakiś znaczący sposób zależne np. `height` od `gender`, a podstawowym założeniem naiwnego klasyfikatora Bayesa jest to, że owe kolumny są od siebie niezależne."
   ]
  }
 ],
 "metadata": {
  "kernelspec": {
   "display_name": "Python 3 (ipykernel)",
   "language": "python",
   "name": "python3"
  },
  "language_info": {
   "codemirror_mode": {
    "name": "ipython",
    "version": 3
   },
   "file_extension": ".py",
   "mimetype": "text/x-python",
   "name": "python",
   "nbconvert_exporter": "python",
   "pygments_lexer": "ipython3",
   "version": "3.9.13"
  }
 },
 "nbformat": 4,
 "nbformat_minor": 5
}
