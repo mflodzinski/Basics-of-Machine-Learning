{
  "metadata": {
    "language_info": {
      "codemirror_mode": {
        "name": "python",
        "version": 3
      },
      "file_extension": ".py",
      "mimetype": "text/x-python",
      "name": "python",
      "nbconvert_exporter": "python",
      "pygments_lexer": "ipython3",
      "version": "3.8"
    },
    "kernelspec": {
      "name": "python",
      "display_name": "Python (Pyodide)",
      "language": "python"
    }
  },
  "nbformat_minor": 4,
  "nbformat": 4,
  "cells": [
    {
      "cell_type": "markdown",
      "source": "# Wstęp:\n- **Celem eksperymentu jest implementacja algorytmu genetycznego z selekcją ruletkową, krzyżowaniem jednopunktowym oraz sukcesją generacyjną,   \n  zbadanie działania owego algorytmu na przykładzie zadania lądowania rakietą oraz wpływu parametru prawdopodobieństwa krzyżowania na  \n  ostateczny wynik.**  \n\n- **Funkcja celu, która określa jakość wyznaczonego rozwiązania zależała od zużycia paliwa podczas lądowania, a także czy rakieta bezpiecznie \n  wylądowała, rozbiła się czy może po upłynięciu czasu nadal jest w powietrzu. Wszystkim trzem przypadkom funkcja przypisuje odpowiednie wartości.** \n\n- **Algorytm genetyczny w każdej iteracji wyznacza nową populację rozwiązań, ocenia je i wybiera najlepsze rozwiązanie, jakie pojawiło się  \n  podczas działania algorytmu.**",
      "metadata": {}
    },
    {
      "cell_type": "code",
      "source": "import numpy as np\nfrom math import ceil\nfrom random import choices",
      "metadata": {
        "trusted": true
      },
      "execution_count": 22,
      "outputs": []
    },
    {
      "cell_type": "code",
      "source": "class GeneticAlgorithmSolver:\n    def __init__(self, t_max, pc, pm, u):\n        self.t_max = t_max\n        self.pc = pc\n        self.pm = pm\n        self.u = u\n        \n    def get_parameters(self):\n        return {\"t_max\":self.t_max, \"pc\":self.pc, \"pm\":self.pm, \"u\":self.u}\n    \n    def solve(self, q, n):\n        t = 0\n        P = create_population(n, self.u)\n        O = score(q, P)\n        x_best, o_best = find_best(P, O)\n        while t < self.t_max:\n            S = selection(P, O)\n            M = cross_and_mutate(S, self.pc, self.pm, self.u)\n            O = score(q, M)\n            x, o = find_best(M, O)\n            #print_best(t, self.t_max, o)\n            if o > o_best:\n                x_best = x\n                o_best = o\n            P = M\n            t+=1\n        return x_best\n    ",
      "metadata": {
        "trusted": true
      },
      "execution_count": 33,
      "outputs": []
    },
    {
      "cell_type": "code",
      "source": "def q(x):\n    v = 0\n    gravity = -0.09\n    height = 200\n    mass = 200 + sum(x)\n\n    for i in range(len(x)):\n        mass -= x[i]\n        acceleration = 45/mass * x[i]\n        v += (acceleration + gravity)\n        height += v\n        if height < 0:\n            return -1000 - sum(x)\n        elif height < 2 and abs(v) < 2:\n            return 2000 - sum(x)\n        \n    #Could also return the same value as if crashed because it's the case where the rocket can't land safely and has no fuel left\n    return -sum(x)\n",
      "metadata": {
        "trusted": true
      },
      "execution_count": 2,
      "outputs": []
    },
    {
      "cell_type": "code",
      "source": "def score(q, P):\n    return [q(x) for x in P]\n\ndef create_population(n, u):\n    return [np.random.randint(0, 2, n).tolist() for _ in range(u)]\n\ndef print_best(t, t_max, o):\n    if t%ceil(t_max / 10) == 0:\n        print(f'Iteration {t} -> {o}')\n\ndef find_best(P, O):\n    o_best = max(O)\n    index = O.index(o_best)\n    x_best = P[index]\n    return x_best, o_best\n\ndef crossover(p1, p2, pc):\n    c1, c2 = p1.copy(), p2.copy()\n    if np.random.rand() < pc:\n        pt = np.random.randint(1, len(p1)-2)\n        c1 = p1[:pt] + p2[pt:]\n        c2 = p2[:pt] + p1[pt:]\n    return [c1, c2]\n\ndef mutation(x, pm):\n    for i in range(len(x)):\n        if np.random.rand() < pm:\n            x[i] = 1 - x[i]\n    return x\n\ndef selection(P, O):\n    O = [o - min(O)/max(O)-min(O) for o in O]\n    fitness = sum(O)\n    probabilities = [q(x)/fitness for x in P]\n    probabilities = np.array(probabilities)\n    probabilities = (probabilities - min(probabilities))/(max(probabilities) - min(probabilities))\n    return choices(P, weights=probabilities, k=len(P))\n\ndef cross_and_mutate(S, pc, pm, u):\n    children = list()\n    for i in range(0, u, 2):\n        p1, p2 = S[i], S[i+1]\n        for c in crossover(p1, p2, pc):\n            c = mutation(c, pm)\n            children.append(c)\n    return children\n",
      "metadata": {
        "trusted": true
      },
      "execution_count": 31,
      "outputs": []
    },
    {
      "cell_type": "code",
      "source": "def test(t_max, pc, pm, u, test_num):\n    ans = []\n    for i in range(test_num):\n        solver = GeneticAlgorithmSolver(t_max, pc, pm, u)\n        x = solver.solve(q, 200)\n        res = q(x)\n        ans.append(res)\n        if (i%2==0):\n            print(f'Iteration {i} result-> {res}')\n    print(f'\\nAverage = {sum(ans)/test_num}')\n    print(f'Std = {np.round(np.std(ans))}')\n    print(f'Min = {np.min(ans)}')\n    print(f'Max = {np.max(ans)}')\n    ",
      "metadata": {
        "trusted": true
      },
      "execution_count": 39,
      "outputs": []
    },
    {
      "cell_type": "markdown",
      "source": "# **Badanie wpływu prawdopodobieństwa krzyżowania \"pc\" na wynik**",
      "metadata": {}
    },
    {
      "cell_type": "markdown",
      "source": "**Ze względu na to, że algorytmy genetyczne wykorzystują losowość, nie wolno wyciągać wniosków na    \npodstawie wyników pojedynczego uruchomienia. Należy porównywać średnie - w tym przypadku z 25 uruchomień.    \nAby jeszcze lepiej ukazać wpływ parametru na wynik, poza średnią, wyliczam także odchylenie standardowe,  \noraz najlepszy i najgorszy ze znalezionych wyników.**\n",
      "metadata": {}
    },
    {
      "cell_type": "markdown",
      "source": "**Test dla pc = 0.0**",
      "metadata": {}
    },
    {
      "cell_type": "code",
      "source": "test(30, 0.0, 0.3, 20, 25)",
      "metadata": {
        "trusted": true
      },
      "execution_count": 51,
      "outputs": [
        {
          "name": "stdout",
          "text": "Iteration 0 result-> 1916\nIteration 2 result-> 1917\nIteration 4 result-> 1916\nIteration 6 result-> 1917\nIteration 8 result-> 1917\nIteration 10 result-> 1918\nIteration 12 result-> 1915\nIteration 14 result-> 1916\nIteration 16 result-> 1918\nIteration 18 result-> 1915\nIteration 20 result-> 1916\nIteration 22 result-> 1917\nIteration 24 result-> 1915\n\nAverage = 1916.48\nStd = 1.0\nMin = 1915\nMax = 1919\n",
          "output_type": "stream"
        }
      ]
    },
    {
      "cell_type": "markdown",
      "source": "**Test dla pc = 0.25**",
      "metadata": {}
    },
    {
      "cell_type": "code",
      "source": "test(30, 0.25, 0.3, 20, 25)",
      "metadata": {
        "trusted": true
      },
      "execution_count": 52,
      "outputs": [
        {
          "name": "stdout",
          "text": "Iteration 0 result-> 1919\nIteration 2 result-> 1917\nIteration 4 result-> 1916\nIteration 6 result-> 1914\nIteration 8 result-> 1916\nIteration 10 result-> 1917\nIteration 12 result-> 1917\nIteration 14 result-> 1913\nIteration 16 result-> 1924\nIteration 18 result-> 1916\nIteration 20 result-> 1915\nIteration 22 result-> 1919\nIteration 24 result-> 1916\n\nAverage = 1917.16\nStd = 2.0\nMin = 1913\nMax = 1924\n",
          "output_type": "stream"
        }
      ]
    },
    {
      "cell_type": "markdown",
      "source": "**Test dla pc = 0.5**",
      "metadata": {}
    },
    {
      "cell_type": "code",
      "source": "test(30, 0.5, 0.3, 20, 25)",
      "metadata": {
        "trusted": true
      },
      "execution_count": 53,
      "outputs": [
        {
          "name": "stdout",
          "text": "Iteration 0 result-> 1914\nIteration 2 result-> 1919\nIteration 4 result-> 1916\nIteration 6 result-> 1918\nIteration 8 result-> 1922\nIteration 10 result-> 1918\nIteration 12 result-> 1916\nIteration 14 result-> 1915\nIteration 16 result-> 1918\nIteration 18 result-> 1916\nIteration 20 result-> 1919\nIteration 22 result-> 1914\nIteration 24 result-> 1918\n\nAverage = 1917.04\nStd = 2.0\nMin = 1912\nMax = 1922\n",
          "output_type": "stream"
        }
      ]
    },
    {
      "cell_type": "markdown",
      "source": "**Test dla pc = 0.75**",
      "metadata": {}
    },
    {
      "cell_type": "code",
      "source": "test(30, 0.75, 0.3, 20, 25)",
      "metadata": {
        "trusted": true
      },
      "execution_count": 54,
      "outputs": [
        {
          "name": "stdout",
          "text": "Iteration 0 result-> 1918\nIteration 2 result-> 1918\nIteration 4 result-> 1920\nIteration 6 result-> 1914\nIteration 8 result-> 1917\nIteration 10 result-> 1920\nIteration 12 result-> 1918\nIteration 14 result-> 1916\nIteration 16 result-> 1915\nIteration 18 result-> 1917\nIteration 20 result-> 1917\nIteration 22 result-> 1916\nIteration 24 result-> 1917\n\nAverage = 1916.92\nStd = 2.0\nMin = 1913\nMax = 1922\n",
          "output_type": "stream"
        }
      ]
    },
    {
      "cell_type": "markdown",
      "source": "**Test dla pc = 1.0**",
      "metadata": {}
    },
    {
      "cell_type": "code",
      "source": "test(30, 1.0, 0.3, 20, 25)",
      "metadata": {
        "trusted": true
      },
      "execution_count": 55,
      "outputs": [
        {
          "name": "stdout",
          "text": "Iteration 0 result-> 1919\nIteration 2 result-> 1917\nIteration 4 result-> 1918\nIteration 6 result-> 1915\nIteration 8 result-> 1922\nIteration 10 result-> 1916\nIteration 12 result-> 1919\nIteration 14 result-> 1918\nIteration 16 result-> 1918\nIteration 18 result-> 1913\nIteration 20 result-> 1916\nIteration 22 result-> 1919\nIteration 24 result-> 1915\n\nAverage = 1917.2\nStd = 2.0\nMin = 1913\nMax = 1922\n",
          "output_type": "stream"
        }
      ]
    },
    {
      "cell_type": "markdown",
      "source": "# Wpływ parametru \"pc\" na wyniki\n**Wraz ze wzrostem wartości prawdopodobieństwa krzyżowania w całym jego zakresie rośnie średnia wartość najlepszego rozwiązania.  \nJest to jednak na tyle mała różnica, że równie dobrze może być to kwestia losowości w algorytmie lub specyficznej funkcji kosztu,   \nktóra bardzo często zwraca prawie najlepszy wynik.**",
      "metadata": {}
    },
    {
      "cell_type": "markdown",
      "source": "# Wnioski:\n- **widoczny wpływ losowości na podstawie odchylenia standardowego przez co algorytm powinien być uruchamiany wielokrotnie**\n- **stosunkowo szybka**\n- **wiele parametrów przez co można mieć problem z ich dobraniem do konkretnego problemu**",
      "metadata": {}
    }
  ]
}