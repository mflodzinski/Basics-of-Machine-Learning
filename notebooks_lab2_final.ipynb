{
  "cells": [
    {
      "cell_type": "markdown",
      "metadata": {},
      "source": [
        "Maciej Łodziński  \n",
        "Laboratiorium nr.2 - WSI"
      ]
    },
    {
      "cell_type": "markdown",
      "metadata": {},
      "source": [
        "# Wstęp:\n",
        "- Celem eksperymentu jest implementacja algorytmu genetycznego z selekcją ruletkową, krzyżowaniem jednopunktowym oraz sukcesją generacyjną,   \n",
        "  zbadanie działania owego algorytmu na przykładzie zadania lądowania rakietą oraz wpływu parametru prawdopodobieństwa krzyżowania na  \n",
        "  ostateczny wynik.  \n",
        "\n",
        "- Funkcja celu, która określa jakość wyznaczonego rozwiązania zależała od zużycia paliwa podczas lądowania, a także czy rakieta bezpiecznie \n",
        "  wylądowała, rozbiła się czy może po upłynięciu czasu nadal jest w powietrzu. Wszystkim trzem przypadkom funkcja przypisuje odpowiednie wartości.  \n",
        "\n",
        "- Algorytm genetyczny w każdej iteracji wyznacza nową populację rozwiązań, ocenia je i wybiera najlepsze rozwiązanie, jakie pojawiło się  \n",
        "  podczas działania algorytmu.  "
      ]
    },
    {
      "cell_type": "code",
      "execution_count": null,
      "metadata": {},
      "outputs": [],
      "source": [
        "import numpy as np\n",
        "from math import ceil\n",
        "from random import choices"
      ]
    },
    {
      "cell_type": "code",
      "execution_count": 2,
      "metadata": {
        "trusted": true
      },
      "outputs": [],
      "source": [
        "class GeneticAlgorithmSolver:\n",
        "    def __init__(self, t_max, pc, pm, u):\n",
        "        self.t_max = t_max\n",
        "        self.pc = pc\n",
        "        self.pm = pm\n",
        "        self.u = u\n",
        "        \n",
        "    def get_parameters(self):\n",
        "        return {\"t_max\":self.t_max, \"pc\":self.pc, \"pm\":self.pm, \"u\":self.u}\n",
        "    \n",
        "    def solve(self, problem, pop0):\n",
        "        t = 0\n",
        "        P = pop0\n",
        "        O = score(problem, P)\n",
        "        x_best, o_best = find_best(P, O)\n",
        "        while t < self.t_max:\n",
        "            S = selection(P, O)\n",
        "            M = cross_and_mutate(S, self.pc, self.pm, self.u)\n",
        "            O = score(q, M)\n",
        "            x, o = find_best(M, O)\n",
        "            #print_best(t, self.t_max, o)\n",
        "            if o > o_best:\n",
        "                x_best = x\n",
        "                o_best = o\n",
        "            P = M\n",
        "            t+=1\n",
        "        return x_best\n",
        "    "
      ]
    },
    {
      "cell_type": "code",
      "execution_count": 3,
      "metadata": {
        "trusted": true
      },
      "outputs": [],
      "source": [
        "def q(x):\n",
        "    v = 0\n",
        "    gravity = -0.09\n",
        "    height = 200\n",
        "    mass = 200 + sum(x)\n",
        "\n",
        "    for i in range(len(x)):\n",
        "        mass -= x[i]\n",
        "        acceleration = 45/mass * x[i]\n",
        "        v += (acceleration + gravity)\n",
        "        height += v\n",
        "        if height < 0:\n",
        "            return -1000 - sum(x)\n",
        "        elif height < 2 and abs(v) < 2:\n",
        "            return 2000 - sum(x)\n",
        "        \n",
        "    #Could also return the same value as if crashed because it's the case where the rocket can't land safely and has no fuel left\n",
        "    return -sum(x)\n"
      ]
    },
    {
      "cell_type": "code",
      "execution_count": 4,
      "metadata": {
        "trusted": true
      },
      "outputs": [],
      "source": [
        "def score(q, P):\n",
        "    return [q(x) for x in P]\n",
        "\n",
        "def create_population(n, u):\n",
        "    return [np.random.randint(0, 2, n).tolist() for _ in range(u)]\n",
        "\n",
        "def print_best(t, t_max, o):\n",
        "    if t%ceil(t_max / 10) == 0:\n",
        "        print(f'Iteration {t} -> {o}')\n",
        "\n",
        "def find_best(P, O):\n",
        "    o_best = max(O)\n",
        "    index = O.index(o_best)\n",
        "    x_best = P[index]\n",
        "    return x_best, o_best\n",
        "\n",
        "def crossover(p1, p2, pc):\n",
        "    c1, c2 = p1.copy(), p2.copy()\n",
        "    if np.random.rand() < pc:\n",
        "        pt = np.random.randint(1, len(p1)-2)\n",
        "        c1 = p1[:pt] + p2[pt:]\n",
        "        c2 = p2[:pt] + p1[pt:]\n",
        "    return [c1, c2]\n",
        "\n",
        "def mutation(x, pm):\n",
        "    for i in range(len(x)):\n",
        "        if np.random.rand() < pm:\n",
        "            x[i] = 1 - x[i]\n",
        "    return x\n",
        "\n",
        "def selection(P, O):\n",
        "    O = [(o - min(O))/(max(O)-min(O)) for o in O]\n",
        "    fitness = sum(O)\n",
        "    probabilities = [o/fitness for o in O]\n",
        "    probabilities = np.array(probabilities)\n",
        "    return choices(P, weights=probabilities, k=len(P))\n",
        "\n",
        "def cross_and_mutate(S, pc, pm, u):\n",
        "    children = list()\n",
        "    for i in range(0, u, 2):\n",
        "        p1, p2 = S[i], S[i+1]\n",
        "        for c in crossover(p1, p2, pc):\n",
        "            c = mutation(c, pm)\n",
        "            children.append(c)\n",
        "    return children\n"
      ]
    },
    {
      "cell_type": "code",
      "execution_count": 5,
      "metadata": {
        "trusted": true
      },
      "outputs": [],
      "source": [
        "def test(t_max, pc, pm, u, test_num):\n",
        "    ans = []\n",
        "    for i in range(test_num):\n",
        "        solver = GeneticAlgorithmSolver(t_max, pc, pm, u)\n",
        "        pop0 = P = create_population(200, u)\n",
        "        x = solver.solve(q, pop0)\n",
        "        res = q(x)\n",
        "        ans.append(res)\n",
        "        if (i%2==0):\n",
        "            print(f'Iteration {i} result-> {res}')\n",
        "    print(f'\\nAverage = {sum(ans)/test_num}')\n",
        "    print(f'Std = {np.round(np.std(ans))}')\n",
        "    print(f'Min = {np.min(ans)}')\n",
        "    print(f'Max = {np.max(ans)}')\n",
        "    "
      ]
    },
    {
      "cell_type": "markdown",
      "metadata": {},
      "source": [
        "# Badanie wpływu prawdopodobieństwa krzyżowania \"pc\" na wynik"
      ]
    },
    {
      "cell_type": "markdown",
      "metadata": {},
      "source": [
        "**Ze względu na to, że algorytmy genetyczne wykorzystują losowość, nie wolno wyciągać wniosków na    \n",
        "podstawie wyników pojedynczego uruchomienia. Należy porównywać średnie - w tym przypadku z 25 uruchomień.    \n",
        "Aby jeszcze lepiej ukazać wpływ parametru na wynik, poza średnią, wyliczam także odchylenie standardowe,  \n",
        "oraz najlepszy i najgorszy ze znalezionych wyników.**\n"
      ]
    },
    {
      "cell_type": "markdown",
      "metadata": {},
      "source": [
        "**Test dla pc = 0.0**"
      ]
    },
    {
      "cell_type": "code",
      "execution_count": 6,
      "metadata": {
        "trusted": true
      },
      "outputs": [
        {
          "name": "stdout",
          "output_type": "stream",
          "text": [
            "Iteration 0 result-> 1915\n",
            "Iteration 2 result-> 1917\n",
            "Iteration 4 result-> 1917\n",
            "Iteration 6 result-> 1916\n",
            "Iteration 8 result-> 1920\n",
            "Iteration 10 result-> 1918\n",
            "Iteration 12 result-> 1920\n",
            "Iteration 14 result-> 1914\n",
            "Iteration 16 result-> 1916\n",
            "Iteration 18 result-> 1916\n",
            "Iteration 20 result-> 1914\n",
            "Iteration 22 result-> 1916\n",
            "Iteration 24 result-> 1918\n",
            "\n",
            "Average = 1917.08\n",
            "Std = 2.0\n",
            "Min = 1914\n",
            "Max = 1921\n"
          ]
        }
      ],
      "source": [
        "test(30, 0.0, 0.3, 20, 25)"
      ]
    },
    {
      "cell_type": "markdown",
      "metadata": {},
      "source": [
        "**Test dla pc = 0.25**"
      ]
    },
    {
      "cell_type": "code",
      "execution_count": 7,
      "metadata": {
        "trusted": true
      },
      "outputs": [
        {
          "name": "stdout",
          "output_type": "stream",
          "text": [
            "Iteration 0 result-> 1915\n",
            "Iteration 2 result-> 1917\n",
            "Iteration 4 result-> 1917\n",
            "Iteration 6 result-> 1916\n",
            "Iteration 8 result-> 1920\n",
            "Iteration 10 result-> 1917\n",
            "Iteration 12 result-> 1913\n",
            "Iteration 14 result-> 1916\n",
            "Iteration 16 result-> 1914\n",
            "Iteration 18 result-> 1918\n",
            "Iteration 20 result-> 1919\n",
            "Iteration 22 result-> 1915\n",
            "Iteration 24 result-> 1917\n",
            "\n",
            "Average = 1916.64\n",
            "Std = 2.0\n",
            "Min = 1913\n",
            "Max = 1920\n"
          ]
        }
      ],
      "source": [
        "test(30, 0.25, 0.3, 20, 25)"
      ]
    },
    {
      "cell_type": "markdown",
      "metadata": {},
      "source": [
        "**Test dla pc = 0.5**"
      ]
    },
    {
      "cell_type": "code",
      "execution_count": 8,
      "metadata": {
        "trusted": true
      },
      "outputs": [
        {
          "name": "stdout",
          "output_type": "stream",
          "text": [
            "Iteration 0 result-> 1916\n",
            "Iteration 2 result-> 1914\n",
            "Iteration 4 result-> 1920\n",
            "Iteration 6 result-> 1915\n",
            "Iteration 8 result-> 1916\n",
            "Iteration 10 result-> 1915\n",
            "Iteration 12 result-> 1918\n",
            "Iteration 14 result-> 1920\n",
            "Iteration 16 result-> 1915\n",
            "Iteration 18 result-> 1917\n",
            "Iteration 20 result-> 1916\n",
            "Iteration 22 result-> 1914\n",
            "Iteration 24 result-> 1921\n",
            "\n",
            "Average = 1917.04\n",
            "Std = 3.0\n",
            "Min = 1914\n",
            "Max = 1925\n"
          ]
        }
      ],
      "source": [
        "test(30, 0.5, 0.3, 20, 25)"
      ]
    },
    {
      "cell_type": "markdown",
      "metadata": {},
      "source": [
        "**Test dla pc = 0.75**"
      ]
    },
    {
      "cell_type": "code",
      "execution_count": 9,
      "metadata": {
        "trusted": true
      },
      "outputs": [
        {
          "name": "stdout",
          "output_type": "stream",
          "text": [
            "Iteration 0 result-> 1916\n",
            "Iteration 2 result-> 1919\n",
            "Iteration 4 result-> 1922\n",
            "Iteration 6 result-> 1916\n",
            "Iteration 8 result-> 1917\n",
            "Iteration 10 result-> 1916\n",
            "Iteration 12 result-> 1915\n",
            "Iteration 14 result-> 1916\n",
            "Iteration 16 result-> 1915\n",
            "Iteration 18 result-> 1922\n",
            "Iteration 20 result-> 1920\n",
            "Iteration 22 result-> 1918\n",
            "Iteration 24 result-> 1916\n",
            "\n",
            "Average = 1917.44\n",
            "Std = 3.0\n",
            "Min = 1913\n",
            "Max = 1923\n"
          ]
        }
      ],
      "source": [
        "test(30, 0.75, 0.3, 20, 25)"
      ]
    },
    {
      "cell_type": "markdown",
      "metadata": {},
      "source": [
        "**Test dla pc = 1.0**"
      ]
    },
    {
      "cell_type": "code",
      "execution_count": 10,
      "metadata": {
        "trusted": true
      },
      "outputs": [
        {
          "name": "stdout",
          "output_type": "stream",
          "text": [
            "Iteration 0 result-> 1919\n",
            "Iteration 2 result-> 1920\n",
            "Iteration 4 result-> 1917\n",
            "Iteration 6 result-> 1919\n",
            "Iteration 8 result-> 1917\n",
            "Iteration 10 result-> 1917\n",
            "Iteration 12 result-> 1916\n",
            "Iteration 14 result-> 1918\n",
            "Iteration 16 result-> 1922\n",
            "Iteration 18 result-> 1916\n",
            "Iteration 20 result-> 1917\n",
            "Iteration 22 result-> 1916\n",
            "Iteration 24 result-> 1916\n",
            "\n",
            "Average = 1917.0\n",
            "Std = 2.0\n",
            "Min = 1914\n",
            "Max = 1922\n"
          ]
        }
      ],
      "source": [
        "test(30, 1.0, 0.3, 20, 25)"
      ]
    },
    {
      "cell_type": "markdown",
      "metadata": {},
      "source": [
        "# Wpływ parametru \"pc\" na wyniki\n",
        "**Wraz ze wzrostem wartości prawdopodobieństwa krzyżowania w całym jego zakresie rośnie średnia wartość najlepszego rozwiązania,\n",
        "jednakże optymalna wartość tego parametru zależy od konkretnego problemu. W tym przypadku jest to jednak na tyle mała różnica, że równie dobrze\n",
        "może być to kwestia losowości w algorytmie, specyficznej funkcji kosztu, która bardzo często zwraca prawie najlepszy wynik lub faktu, że przeprowadzamy krzyżowanie tylko jednopunktowe.**"
      ]
    },
    {
      "cell_type": "markdown",
      "metadata": {},
      "source": [
        "# Wnioski:\n",
        "- **widoczny wpływ losowości na podstawie odchylenia standardowego przez co algorytm powinien być uruchamiany wielokrotnie**\n",
        "- **stosunkowo szybki algorytm**\n",
        "- **wiele parametrów przez co można mieć problem z ich dobraniem do konkretnego problemu**"
      ]
    }
  ],
  "metadata": {
    "kernelspec": {
      "display_name": "Python (Pyodide)",
      "language": "python",
      "name": "python"
    },
    "language_info": {
      "codemirror_mode": {
        "name": "python",
        "version": 3
      },
      "file_extension": ".py",
      "mimetype": "text/x-python",
      "name": "python",
      "nbconvert_exporter": "python",
      "pygments_lexer": "ipython3",
      "version": "3.8"
    }
  },
  "nbformat": 4,
  "nbformat_minor": 4
}
